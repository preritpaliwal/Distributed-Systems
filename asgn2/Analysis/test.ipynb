{
 "cells": [
  {
   "cell_type": "code",
   "execution_count": 30,
   "metadata": {},
   "outputs": [],
   "source": [
    "import random, string, requests, time, json\n",
    "from tqdm import tqdm\n",
    "\n",
    "localhost = \"http://127.0.0.1\"\n",
    "url = localhost + \":5000/\""
   ]
  },
  {
   "cell_type": "code",
   "execution_count": null,
   "metadata": {},
   "outputs": [],
   "source": [
    "records = [\n",
    "    {\n",
    "        \"Stud_id\" : i,\n",
    "        \"Stud_name\" : ''.join(random.choices(string.ascii_uppercase, k = 6)),\n",
    "        \"Stud_marks\" : random.randint(0, 100)\n",
    "    }\n",
    "    \n",
    "    for i in range(0, 10000)\n",
    "]"
   ]
  },
  {
   "cell_type": "code",
   "execution_count": null,
   "metadata": {},
   "outputs": [],
   "source": [
    "def readN(N : int = 10000, batch_size : int = 10):\n",
    "    \n",
    "    start = time.time()\n",
    "    \n",
    "    for i in tqdm(range(N)):\n",
    "        lo = random.randint(0, 10000)\n",
    "        hi = lo + batch_size\n",
    "        r = requests.post(url + \"read\", data = json.dumps({\"Stud_id\" : {\"low\" : lo, \"high\" : hi}}))\n",
    "\n",
    "    end = time.time()\n",
    "    \n",
    "    return f\"{N} read requests with batches of {batch_size} took {end-start:.2f} seconds.\""
   ]
  },
  {
   "cell_type": "code",
   "execution_count": null,
   "metadata": {},
   "outputs": [],
   "source": [
    "def writeN(N : int = 10000, batch_size : int = 10):\n",
    "    \n",
    "    start = time.time()\n",
    "    \n",
    "    for i in tqdm(range(N)):\n",
    "        data = random.choices(records, k = batch_size)\n",
    "        r = requests.post(url + \"write\", data = json.dumps({\"data\" : data}))\n",
    "    \n",
    "    end = time.time()\n",
    "    \n",
    "    return f\"{N} write requests with batches of {batch_size} took {end-start:.2f} seconds.\""
   ]
  },
  {
   "cell_type": "markdown",
   "metadata": {},
   "source": [
    "# A-1\n",
    "\n",
    "Report the read and write speed for 10000 writes and 10000 reads in the default configuration given"
   ]
  },
  {
   "cell_type": "code",
   "execution_count": 32,
   "metadata": {},
   "outputs": [],
   "source": [
    "# Initialise\n",
    "\n",
    "init = {\n",
    "    \"N\":3,\n",
    "    \"schema\":{\"columns\":[\"Stud_id\",\"Stud_name\",\"Stud_marks\"],\"dtypes\":[\"Number\",\"String\",\"String\"]},\n",
    "    \"shards\":[{\"Stud_id_low\":0, \"Shard_id\": \"sh1\", \"Shard_size\":4096},\n",
    "            {\"Stud_id_low\":4096, \"Shard_id\": \"sh2\", \"Shard_size\":4096},\n",
    "            {\"Stud_id_low\":8192, \"Shard_id\": \"sh3\", \"Shard_size\":4096}],\n",
    "    \"servers\":{\"Server0\":[\"sh1\",\"sh2\"],\n",
    "            \"Server1\":[\"sh2\",\"sh3\"],\n",
    "            \"Server2\":[\"sh1\",\"sh3\"]}\n",
    "}\n",
    "\n",
    "r = requests.post(url + \"init\", data = json.dumps(init))"
   ]
  },
  {
   "cell_type": "code",
   "execution_count": 34,
   "metadata": {},
   "outputs": [
    {
     "data": {
      "text/plain": [
       "{'N': 3,\n",
       " 'schema': {'columns': ['Stud_id', 'Stud_name', 'Stud_marks'],\n",
       "  'dtypes': ['Number', 'String', 'String']},\n",
       " 'servers': {'Server0': ['sh1', 'sh2'],\n",
       "  'Server1': ['sh2', 'sh3'],\n",
       "  'Server2': ['sh1', 'sh3']},\n",
       " 'shards': [{'Shard_id': 'sh1', 'Shard_size': 4096, 'Stud_id_low': 0},\n",
       "  {'Shard_id': 'sh2', 'Shard_size': 4096, 'Stud_id_low': 4096},\n",
       "  {'Shard_id': 'sh3', 'Shard_size': 4096, 'Stud_id_low': 8192}]}"
      ]
     },
     "execution_count": 34,
     "metadata": {},
     "output_type": "execute_result"
    }
   ],
   "source": [
    "# Check Status\n",
    "\n",
    "r = requests.get(f\"{localhost}:5000/status\")\n",
    "r.json()"
   ]
  },
  {
   "cell_type": "code",
   "execution_count": null,
   "metadata": {},
   "outputs": [],
   "source": [
    "## Read\n",
    "\n",
    "writeN()"
   ]
  },
  {
   "cell_type": "code",
   "execution_count": null,
   "metadata": {},
   "outputs": [],
   "source": [
    "# Read\n",
    "\n",
    "readN()"
   ]
  },
  {
   "cell_type": "markdown",
   "metadata": {},
   "source": [
    "# A-2\n",
    "\n",
    "Increase the number of shard replicas (to 7) from the configuration (init endpoint). Report the write speed down for\n",
    "10000 writes and read speed up for 10000 reads."
   ]
  },
  {
   "cell_type": "code",
   "execution_count": null,
   "metadata": {},
   "outputs": [],
   "source": [
    "# Initialise\n",
    "\n",
    "init = {\n",
    "    \"N\":7,\n",
    "    \"schema\":{\"columns\":[\"Stud_id\",\"Stud_name\",\"Stud_marks\"],\"dtypes\":[\"Number\",\"String\",\"String\"]},\n",
    "    \"shards\":[{\"Stud_id_low\":0, \"Shard_id\": \"sh1\", \"Shard_size\":4096},\n",
    "            {\"Stud_id_low\":4096, \"Shard_id\": \"sh2\", \"Shard_size\":4096},\n",
    "            {\"Stud_id_low\":8192, \"Shard_id\": \"sh3\", \"Shard_size\":4096}],\n",
    "    \"servers\":{\n",
    "            \"Server0\":[\"sh1\", \"sh2\", \"sh3\"],\n",
    "            \"Server1\":[\"sh1\", \"sh2\", \"sh3\"],\n",
    "            \"Server2\":[\"sh1\", \"sh2\", \"sh3\"],\n",
    "            \"Server3\":[\"sh1\", \"sh2\", \"sh3\"],\n",
    "            \"Server4\":[\"sh1\", \"sh2\", \"sh3\"],\n",
    "            \"Server5\":[\"sh1\", \"sh2\", \"sh3\"],\n",
    "            \"Server6\":[\"sh1\", \"sh2\", \"sh3\"],\n",
    "            }\n",
    "}\n",
    "\n",
    "r = requests.post(url + \"init\", data = json.dumps(init))"
   ]
  },
  {
   "cell_type": "code",
   "execution_count": null,
   "metadata": {},
   "outputs": [],
   "source": [
    "# Check Status\n",
    "\n",
    "r = requests.get(f\"{localhost}:5000/status\")\n",
    "r.json()"
   ]
  },
  {
   "cell_type": "code",
   "execution_count": null,
   "metadata": {},
   "outputs": [],
   "source": [
    "writeN()"
   ]
  },
  {
   "cell_type": "code",
   "execution_count": null,
   "metadata": {},
   "outputs": [],
   "source": [
    "readN()"
   ]
  },
  {
   "cell_type": "markdown",
   "metadata": {},
   "source": [
    "# A-3\n",
    "\n",
    "Increase the number of Servers (to 10) by adding new servers and increase the number of shards (shard to 6, shard\n",
    "replicas to 8). Define the (init endpoint) configurations according to your choice. Report the write speed up for 10000\n",
    "writes and read speed up for 10000 reads"
   ]
  },
  {
   "cell_type": "code",
   "execution_count": null,
   "metadata": {},
   "outputs": [],
   "source": [
    "# Initialise\n",
    "\n",
    "init = {\n",
    "    \"N\":7,\n",
    "    \"schema\":{\"columns\":[\"Stud_id\",\"Stud_name\",\"Stud_marks\"],\"dtypes\":[\"Number\",\"String\",\"String\"]},\n",
    "    \"shards\":[{\"Stud_id_low\":0, \"Shard_id\": \"sh1\", \"Shard_size\":4096},\n",
    "            {\"Stud_id_low\":4096, \"Shard_id\": \"sh2\", \"Shard_size\":4096},\n",
    "            {\"Stud_id_low\":8192, \"Shard_id\": \"sh3\", \"Shard_size\":4096}],\n",
    "    \"servers\":{\n",
    "            \"Server0\":[\"sh1\", \"sh2\", \"sh3\", \"sh4\", \"sh5\", \"sh6\"],\n",
    "            \"Server1\":[\"sh1\", \"sh2\", \"sh3\", \"sh4\", \"sh5\", \"sh6\"],\n",
    "            \"Server2\":[\"sh1\", \"sh2\", \"sh3\", \"sh4\", \"sh5\", \"sh6\"],\n",
    "            \"Server3\":[\"sh1\", \"sh2\", \"sh3\", \"sh4\", \"sh5\", \"sh6\"],\n",
    "            \"Server4\":[\"sh1\", \"sh2\", \"sh3\", \"sh4\", \"sh5\", \"sh6\"],\n",
    "            \"Server5\":[\"sh1\", \"sh2\", \"sh3\", \"sh4\", \"sh5\", \"sh6\"],\n",
    "            \"Server6\":[\"sh1\", \"sh2\", \"sh3\", \"sh4\", \"sh5\", \"sh6\"],\n",
    "            }\n",
    "}\n",
    "\n",
    "r = requests.post(url + \"init\", data = json.dumps(init))"
   ]
  },
  {
   "cell_type": "code",
   "execution_count": null,
   "metadata": {},
   "outputs": [],
   "source": [
    "# Check Status\n",
    "\n",
    "r = requests.get(f\"{localhost}:5000/status\")\n",
    "r.json()"
   ]
  },
  {
   "cell_type": "code",
   "execution_count": null,
   "metadata": {},
   "outputs": [],
   "source": [
    "#Add new servers\n",
    "\n",
    "payload = {\n",
    "    \"n\" : 3,\n",
    "    \"new_shards\" : [],\n",
    "    \"servers\" : {\n",
    "        \"Server7\":[\"sh1\",\"sh6\"], \n",
    "        \"Server8\":[\"sh2\",\"sh5\"],\n",
    "        \"Server9\":[\"sh3\",\"sh4\"]\n",
    "        }\n",
    "}\n",
    "\n",
    "r = requests.post(url + \"add\", data = payload)"
   ]
  },
  {
   "cell_type": "code",
   "execution_count": null,
   "metadata": {},
   "outputs": [],
   "source": [
    "writeN()"
   ]
  },
  {
   "cell_type": "code",
   "execution_count": null,
   "metadata": {},
   "outputs": [],
   "source": [
    "readN()"
   ]
  },
  {
   "cell_type": "markdown",
   "metadata": {},
   "source": [
    "# A-4 \n",
    "\n",
    "Finally, check all the endpoints and ensure their correctness. Manually drop a server container and show that the load\n",
    "balancer spawns a new container and copies the shard entries from other replicas."
   ]
  },
  {
   "cell_type": "code",
   "execution_count": null,
   "metadata": {},
   "outputs": [],
   "source": []
  },
  {
   "cell_type": "code",
   "execution_count": null,
   "metadata": {},
   "outputs": [],
   "source": []
  },
  {
   "cell_type": "code",
   "execution_count": null,
   "metadata": {},
   "outputs": [],
   "source": []
  },
  {
   "cell_type": "code",
   "execution_count": null,
   "metadata": {},
   "outputs": [],
   "source": []
  }
 ],
 "metadata": {
  "kernelspec": {
   "display_name": "Python 3",
   "language": "python",
   "name": "python3"
  },
  "language_info": {
   "codemirror_mode": {
    "name": "ipython",
    "version": 3
   },
   "file_extension": ".py",
   "mimetype": "text/x-python",
   "name": "python",
   "nbconvert_exporter": "python",
   "pygments_lexer": "ipython3",
   "version": "3.11.8"
  }
 },
 "nbformat": 4,
 "nbformat_minor": 2
}
